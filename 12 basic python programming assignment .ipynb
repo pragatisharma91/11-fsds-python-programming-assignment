{
 "cells": [
  {
   "cell_type": "markdown",
   "id": "6b18b24e",
   "metadata": {},
   "source": [
    "1. Write a Python program to Extract Unique values dictionary values?"
   ]
  },
  {
   "cell_type": "code",
   "execution_count": 1,
   "id": "57684915",
   "metadata": {},
   "outputs": [
    {
     "data": {
      "text/plain": [
       "{1, 1234, 'hello'}"
      ]
     },
     "execution_count": 1,
     "metadata": {},
     "output_type": "execute_result"
    }
   ],
   "source": [
    "dict1 = {'k1': 1, 'k2': 1, 'k3': 'hello', 'k4': 'hello', 'k5':1234}\n",
    "unique_values = {i for i in dict1.values()}\n",
    "unique_values"
   ]
  },
  {
   "cell_type": "markdown",
   "id": "0844e896",
   "metadata": {},
   "source": [
    "2. Write a Python program to find the sum of all items in a dictionary?"
   ]
  },
  {
   "cell_type": "code",
   "execution_count": 2,
   "id": "7ee1b4fb",
   "metadata": {},
   "outputs": [
    {
     "name": "stdout",
     "output_type": "stream",
     "text": [
      "Sum of all values is : 1407\n"
     ]
    }
   ],
   "source": [
    "test_dict = {'k1' : 89,\n",
    "             'k2' : 111,\n",
    "             'k3' : 123,\n",
    "             'k4' : 5}\n",
    "\n",
    "sum = 0\n",
    "for i in test_dict.values():\n",
    "    sum +=sum + i\n",
    "print(\"Sum of all values is : {}\".format(sum))"
   ]
  },
  {
   "cell_type": "markdown",
   "id": "a7e8b9e0",
   "metadata": {},
   "source": [
    "3. Write a Python program to Merging two Dictionaries?"
   ]
  },
  {
   "cell_type": "code",
   "execution_count": 3,
   "id": "90c5d7cd",
   "metadata": {},
   "outputs": [
    {
     "name": "stdout",
     "output_type": "stream",
     "text": [
      "{'x': 1, 'l': 2, 'z': 12, 'k': 3}\n"
     ]
    }
   ],
   "source": [
    "dict1 = { 'x': 1, 'l': 2, 'z':12}\n",
    "dict2 = { 'k': 3, 'z': 4, 'x': 11}\n",
    "# merging dict2 into dict1\n",
    "for item in dict2.items():\n",
    "    dict1.setdefault(item[0], item[1])\n",
    "print(dict1)"
   ]
  }
 ],
 "metadata": {
  "kernelspec": {
   "display_name": "Python 3 (ipykernel)",
   "language": "python",
   "name": "python3"
  },
  "language_info": {
   "codemirror_mode": {
    "name": "ipython",
    "version": 3
   },
   "file_extension": ".py",
   "mimetype": "text/x-python",
   "name": "python",
   "nbconvert_exporter": "python",
   "pygments_lexer": "ipython3",
   "version": "3.11.4"
  }
 },
 "nbformat": 4,
 "nbformat_minor": 5
}
